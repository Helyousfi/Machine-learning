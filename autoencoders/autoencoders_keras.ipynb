{
  "nbformat": 4,
  "nbformat_minor": 0,
  "metadata": {
    "colab": {
      "name": "autoencoders_keras.ipynb",
      "provenance": []
    },
    "kernelspec": {
      "name": "python3",
      "display_name": "Python 3"
    },
    "language_info": {
      "name": "python"
    }
  },
  "cells": [
    {
      "cell_type": "markdown",
      "source": [
        "## Import dependencies"
      ],
      "metadata": {
        "id": "pVd8qnMmepEt"
      }
    },
    {
      "cell_type": "code",
      "execution_count": 1,
      "metadata": {
        "colab": {
          "base_uri": "https://localhost:8080/"
        },
        "id": "ZFItg3EreaDH",
        "outputId": "e55da78a-664f-45d5-816d-151545ef4912"
      },
      "outputs": [
        {
          "output_type": "stream",
          "name": "stdout",
          "text": [
            "Downloading data from https://storage.googleapis.com/tensorflow/tf-keras-datasets/mnist.npz\n",
            "11493376/11490434 [==============================] - 0s 0us/step\n",
            "11501568/11490434 [==============================] - 0s 0us/step\n"
          ]
        }
      ],
      "source": [
        "import tensorflow as tf  \n",
        "from tensorflow import keras\n",
        "import cv2\n",
        "import numpy as np\n",
        "\n",
        "(x_train, y_train),(x_test, y_test) = tf.keras.datasets.mnist.load_data()  # loads the popular \"mnist\" training dataset\n",
        "\n",
        "x_train = x_train/255.0  # scales the data. pixel values range from 0 to 255, so this makes it range 0 to 1\n",
        "x_test = x_test/255.0  # scales the data. pixel values range from 0 to 255, so this makes it range 0 to 1"
      ]
    },
    {
      "cell_type": "markdown",
      "source": [
        "## Plot some samples of the dataset"
      ],
      "metadata": {
        "id": "F-2PtrYkAKqI"
      }
    },
    {
      "cell_type": "code",
      "source": [
        "import matplotlib.pyplot as plt\n",
        "plt.imshow(x_train[0], cmap=\"gray\")"
      ],
      "metadata": {
        "colab": {
          "base_uri": "https://localhost:8080/",
          "height": 283
        },
        "id": "W1SjbG_eeeum",
        "outputId": "c93ec303-f876-4be2-a709-832c49046c68"
      },
      "execution_count": 2,
      "outputs": [
        {
          "output_type": "execute_result",
          "data": {
            "text/plain": [
              "<matplotlib.image.AxesImage at 0x7f8740dcfa90>"
            ]
          },
          "metadata": {},
          "execution_count": 2
        },
        {
          "output_type": "display_data",
          "data": {
            "text/plain": [
              "<Figure size 432x288 with 1 Axes>"
            ],
            "image/png": "[encoded data removed]"
          },
          "metadata": {
            "needs_background": "light"
          }
        }
      ]
    },
    {
      "cell_type": "code",
      "source": [
        "x_train[0].shape"
      ],
      "metadata": {
        "colab": {
          "base_uri": "https://localhost:8080/"
        },
        "id": "PFjwyaNUek61",
        "outputId": "b4476a67-e8b6-40e3-ca2b-551ed28710b1"
      },
      "execution_count": 3,
      "outputs": [
        {
          "output_type": "execute_result",
          "data": {
            "text/plain": [
              "(28, 28)"
            ]
          },
          "metadata": {},
          "execution_count": 3
        }
      ]
    },
    {
      "cell_type": "markdown",
      "source": [
        "## Create the autoencoder"
      ],
      "metadata": {
        "id": "YIfrlM9-evt-"
      }
    },
    {
      "cell_type": "code",
      "source": [
        "encoder_input = keras.Input(shape=(28, 28, 1), name='img')\n",
        "x = keras.layers.Flatten()(encoder_input)\n",
        "encoder_output = keras.layers.Dense(64, activation=\"relu\")(x)\n",
        "\n",
        "## Create the encoder model\n",
        "encoder = keras.Model(encoder_input, encoder_output, name='encoder')\n",
        "\n",
        "decoder_input = keras.layers.Dense(64, activation=\"relu\")(encoder_output)\n",
        "x = keras.layers.Dense(784, activation=\"relu\")(decoder_input)\n",
        "decoder_output = keras.layers.Reshape((28, 28, 1))(x)"
      ],
      "metadata": {
        "id": "QtTXplP9eoJ9"
      },
      "execution_count": 6,
      "outputs": []
    },
    {
      "cell_type": "code",
      "source": [
        "autoencoder = keras.Model(encoder_input, decoder_output, name='autoencoder')"
      ],
      "metadata": {
        "id": "RmqSfwZofEzF"
      },
      "execution_count": 8,
      "outputs": []
    },
    {
      "cell_type": "code",
      "source": [
        "autoencoder.summary()"
      ],
      "metadata": {
        "colab": {
          "base_uri": "https://localhost:8080/"
        },
        "id": "1cs4nRIVfGqe",
        "outputId": "3260854b-11f3-4f41-f29c-42c66dab2858"
      },
      "execution_count": 9,
      "outputs": [
        {
          "output_type": "stream",
          "name": "stdout",
          "text": [
            "Model: \"autoencoder\"\n",
            "_________________________________________________________________\n",
            " Layer (type)                Output Shape              Param #   \n",
            "=================================================================\n",
            " img (InputLayer)            [(None, 28, 28, 1)]       0         \n",
            "                                                                 \n",
            " flatten_2 (Flatten)         (None, 784)               0         \n",
            "                                                                 \n",
            " dense_6 (Dense)             (None, 64)                50240     \n",
            "                                                                 \n",
            " dense_7 (Dense)             (None, 64)                4160      \n",
            "                                                                 \n",
            " dense_8 (Dense)             (None, 784)               50960     \n",
            "                                                                 \n",
            " reshape_2 (Reshape)         (None, 28, 28, 1)         0         \n",
            "                                                                 \n",
            "=================================================================\n",
            "Total params: 105,360\n",
            "Trainable params: 105,360\n",
            "Non-trainable params: 0\n",
            "_________________________________________________________________\n"
          ]
        }
      ]
    },
    {
      "cell_type": "markdown",
      "source": [
        "## Define the optimizer"
      ],
      "metadata": {
        "id": "xq9_UocWAeRB"
      }
    },
    {
      "cell_type": "code",
      "source": [
        "opt = tf.keras.optimizers.Adam(lr=0.001, decay=1e-6)"
      ],
      "metadata": {
        "colab": {
          "base_uri": "https://localhost:8080/"
        },
        "id": "w7ZigZTBewHG",
        "outputId": "3968c083-8ff9-407f-ab3a-761b16072e5f"
      },
      "execution_count": 7,
      "outputs": [
        {
          "output_type": "stream",
          "name": "stderr",
          "text": [
            "/usr/local/lib/python3.7/dist-packages/keras/optimizer_v2/adam.py:105: UserWarning: The `lr` argument is deprecated, use `learning_rate` instead.\n",
            "  super(Adam, self).__init__(name, **kwargs)\n"
          ]
        }
      ]
    },
    {
      "cell_type": "markdown",
      "source": [
        "## Train the autoencoder"
      ],
      "metadata": {
        "id": "zOac3elmAk32"
      }
    },
    {
      "cell_type": "code",
      "source": [
        "autoencoder.compile(opt, loss='mse')\n",
        "epochs=3\n",
        "\n",
        "for epoch in range(epochs):\n",
        "    history = autoencoder.fit(\n",
        "      x_train,\n",
        "      x_train,\n",
        "      epochs=1, \n",
        "      batch_size=32, validation_split=0.10\n",
        "        )   \n",
        "    autoencoder.save(f\"models/AE-{epoch+1}.model\")"
      ],
      "metadata": {
        "colab": {
          "base_uri": "https://localhost:8080/"
        },
        "id": "TZkYaF6JfIRH",
        "outputId": "e1fcf3b9-c248-4c10-d926-338960219343"
      },
      "execution_count": 10,
      "outputs": [
        {
          "output_type": "stream",
          "name": "stdout",
          "text": [
            "1688/1688 [==============================] - 7s 4ms/step - loss: 0.0215 - val_loss: 0.0151\n",
            "INFO:tensorflow:Assets written to: models/AE-1.model/assets\n",
            "1688/1688 [==============================] - 8s 4ms/step - loss: 0.0143 - val_loss: 0.0135\n",
            "INFO:tensorflow:Assets written to: models/AE-2.model/assets\n",
            "1688/1688 [==============================] - 6s 4ms/step - loss: 0.0131 - val_loss: 0.0126\n",
            "INFO:tensorflow:Assets written to: models/AE-3.model/assets\n"
          ]
        }
      ]
    },
    {
      "cell_type": "markdown",
      "source": [
        "## Test the autoencoder"
      ],
      "metadata": {
        "id": "OYaZ5m15Apo4"
      }
    },
    {
      "cell_type": "code",
      "source": [
        "example = encoder.predict([ x_test[0].reshape(-1, 28, 28, 1) ])\n",
        "print(example[0].shape)\n",
        "print(example[0])\n",
        "plt.imshow(example[0].reshape((8,8)), cmap=\"gray\")"
      ],
      "metadata": {
        "colab": {
          "base_uri": "https://localhost:8080/",
          "height": 500
        },
        "id": "ki_dtqz1fV7X",
        "outputId": "c04eabcc-4ac4-4c43-d2fb-3956f0e1d6a2"
      },
      "execution_count": 11,
      "outputs": [
        {
          "output_type": "stream",
          "name": "stdout",
          "text": [
            "(64,)\n",
            "[1.6143329  1.6453903  1.9837688  0.37934855 0.60555756 2.2710364\n",
            " 1.2727194  0.47229755 0.         2.4280581  2.3524067  0.8160464\n",
            " 0.18313621 0.         1.512673   1.0591322  1.1620226  1.3688896\n",
            " 0.         1.1368082  0.         1.8906951  1.0268162  0.71982914\n",
            " 2.5591443  0.         0.8689327  0.9254041  2.5209846  1.7686884\n",
            " 0.9477802  2.963418   0.         2.122848   2.205802   0.99097514\n",
            " 0.9694947  1.2806231  2.861016   0.         1.5664648  0.\n",
            " 0.33104008 2.1451633  1.8654721  1.7064793  1.2264721  2.1468613\n",
            " 1.869295   1.417742   1.4171693  1.7830098  1.333997   1.0841647\n",
            " 1.3852684  1.9081368  0.7239005  1.4323795  1.2296157  1.227638\n",
            " 1.7574728  1.2538607  3.316257   1.9445275 ]\n"
          ]
        },
        {
          "output_type": "execute_result",
          "data": {
            "text/plain": [
              "<matplotlib.image.AxesImage at 0x7f873c6bea50>"
            ]
          },
          "metadata": {},
          "execution_count": 11
        },
        {
          "output_type": "display_data",
          "data": {
            "text/plain": [
              "<Figure size 432x288 with 1 Axes>"
            ],
            "image/png": "[encoded data removed]"
          },
          "metadata": {
            "needs_background": "light"
          }
        }
      ]
    },
    {
      "cell_type": "code",
      "source": [
        "plt.imshow(x_test[0], cmap=\"gray\")"
      ],
      "metadata": {
        "colab": {
          "base_uri": "https://localhost:8080/",
          "height": 283
        },
        "id": "mcTQz-13ff-3",
        "outputId": "0b97d845-7dbb-41d8-8c56-f507e4d816a3"
      },
      "execution_count": 12,
      "outputs": [
        {
          "output_type": "execute_result",
          "data": {
            "text/plain": [
              "<matplotlib.image.AxesImage at 0x7f873c51b110>"
            ]
          },
          "metadata": {},
          "execution_count": 12
        },
        {
          "output_type": "display_data",
          "data": {
            "text/plain": [
              "<Figure size 432x288 with 1 Axes>"
            ],
            "image/png": "[encoded data removed]"
          },
          "metadata": {
            "needs_background": "light"
          }
        }
      ]
    },
    {
      "cell_type": "code",
      "source": [
        "ae_out = autoencoder.predict([ x_test[0].reshape(-1, 28, 28, 1) ])\n",
        "img = ae_out[0]  # predict is done on a vector, and returns a vector, even if its just 1 element, so we still need to grab the 0th\n",
        "print(np.squeeze(img).shape)\n",
        "plt.imshow(np.squeeze(img), cmap=\"gray\")"
      ],
      "metadata": {
        "colab": {
          "base_uri": "https://localhost:8080/",
          "height": 301
        },
        "id": "BMuCK1Btfi7T",
        "outputId": "25cb7a46-c42b-4a77-f3a5-2d6a94f9908d"
      },
      "execution_count": 13,
      "outputs": [
        {
          "output_type": "stream",
          "name": "stdout",
          "text": [
            "(28, 28)\n"
          ]
        },
        {
          "output_type": "execute_result",
          "data": {
            "text/plain": [
              "<matplotlib.image.AxesImage at 0x7f873c7c2610>"
            ]
          },
          "metadata": {},
          "execution_count": 13
        },
        {
          "output_type": "display_data",
          "data": {
            "text/plain": [
              "<Figure size 432x288 with 1 Axes>"
            ],
            "image/png": "[encoded data removed]"
          },
          "metadata": {
            "needs_background": "light"
          }
        }
      ]
    },
    {
      "cell_type": "code",
      "source": [
        ""
      ],
      "metadata": {
        "id": "mMY5C1ZSAs99"
      },
      "execution_count": null,
      "outputs": []
    }
  ]
}
